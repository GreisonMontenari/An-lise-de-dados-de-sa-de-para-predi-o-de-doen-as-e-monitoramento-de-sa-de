{
  "nbformat": 4,
  "nbformat_minor": 0,
  "metadata": {
    "colab": {
      "provenance": [],
      "include_colab_link": true
    },
    "kernelspec": {
      "name": "python3",
      "display_name": "Python 3"
    }
  },
  "cells": [
    {
      "cell_type": "markdown",
      "metadata": {
        "id": "view-in-github",
        "colab_type": "text"
      },
      "source": [
        "<a href=\"https://colab.research.google.com/github/GreisonMontenari/An-lise-de-dados-de-sa-de-para-predi-o-de-doen-as-e-monitoramento-de-sa-de/blob/main/Profissao_Analista_de_dados_M18_Exercicio_(2).ipynb\" target=\"_parent\"><img src=\"https://colab.research.google.com/assets/colab-badge.svg\" alt=\"Open In Colab\"/></a>"
      ]
    },
    {
      "cell_type": "markdown",
      "metadata": {
        "id": "KJqp9AANOCtf"
      },
      "source": [
        "<img src=\"https://raw.githubusercontent.com/andre-marcos-perez/ebac-course-utils/main/media/logo/newebac_logo_black_half.png\" alt=\"ebac-logo\">\n",
        "\n",
        "---\n",
        "\n",
        "# **Módulo** | Análise de Dados: Controle de Versão II\n",
        "Caderno de **Exercícios**<br>\n",
        "Professor [André Perez](https://www.linkedin.com/in/andremarcosperez/)\n",
        "\n",
        "---"
      ]
    },
    {
      "cell_type": "markdown",
      "metadata": {
        "id": "d9jDtUbDOE1-"
      },
      "source": [
        "# **Tópicos**\n",
        "\n",
        "<ol type=\"1\">\n",
        "  <li>Adicionar e salvar;</li>\n",
        "  <li>Visualizar e reverter;</li>\n",
        "  <li>Persistir e atualizar.</li>\n",
        "</ol>"
      ]
    },
    {
      "cell_type": "markdown",
      "metadata": {
        "id": "SmoHgt-lwkpD"
      },
      "source": [
        "---"
      ]
    },
    {
      "cell_type": "markdown",
      "metadata": {
        "id": "GABI6OW8OfQ2"
      },
      "source": [
        "# **Exercícios**"
      ]
    },
    {
      "cell_type": "markdown",
      "metadata": {
        "id": "kzRDceCvkFj2"
      },
      "source": [
        "## 1\\. Setup"
      ]
    },
    {
      "cell_type": "markdown",
      "metadata": {
        "id": "WCQi-s0Hpd5V"
      },
      "source": [
        "Para realizar os exercicios vamos configurar o `git` e trazer o projeto do GitHub para a a máquina virtual do Google Colab (ou na sua máquina local, as instruções são as mesmas). Para tanto, replique as atividades expostas na aula 1 deste módulo."
      ]
    },
    {
      "cell_type": "markdown",
      "metadata": {
        "id": "HrTLgE0tki6P"
      },
      "source": [
        "### **1.1. Autenticação**"
      ]
    },
    {
      "cell_type": "markdown",
      "metadata": {
        "id": "7tIjNOs8q6aZ"
      },
      "source": [
        "Nesta etapa, vamos configura o `git` com suas credenciais."
      ]
    },
    {
      "cell_type": "code",
      "metadata": {
        "id": "IwTTh4VKkdKN"
      },
      "source": [
        "import os\n",
        "\n",
        "username = \"<seu-usuario-git>\" # insira o seu nome de usuário do git\n",
        "os.environ[\"GITHUB_USER\"] = username\n",
        "\n",
        "!git config --global user.name \"${GITHUB_USER}\""
      ],
      "execution_count": null,
      "outputs": []
    },
    {
      "cell_type": "code",
      "metadata": {
        "id": "8gt4Y28skdKO",
        "colab": {
          "base_uri": "https://localhost:8080/"
        },
        "outputId": "9732af3f-c0a4-4b96-fa5b-e1f84cd0ee88"
      },
      "source": [
        "import os\n",
        "from getpass import getpass\n",
        "\n",
        "usermail = getpass()\n",
        "os.environ[\"GITHUB_MAIL\"] = usermail\n",
        "\n",
        "!git config --global user.email \"${GITHUB_MAIL}\""
      ],
      "execution_count": null,
      "outputs": [
        {
          "name": "stdout",
          "output_type": "stream",
          "text": [
            "··········\n"
          ]
        }
      ]
    },
    {
      "cell_type": "code",
      "metadata": {
        "id": "BS6vMNnCkdKO",
        "colab": {
          "base_uri": "https://localhost:8080/"
        },
        "outputId": "a549e6d9-bea5-4e3b-a533-b22e57af26a9"
      },
      "source": [
        "import os\n",
        "from getpass import getpass\n",
        "\n",
        "usertoken = getpass()\n",
        "os.environ[\"GITHUB_TOKEN\"] = usertoken"
      ],
      "execution_count": null,
      "outputs": [
        {
          "name": "stdout",
          "output_type": "stream",
          "text": [
            "··········\n"
          ]
        }
      ]
    },
    {
      "cell_type": "markdown",
      "metadata": {
        "id": "TTh7w8rgkznY"
      },
      "source": [
        "### **1.2. Projeto**"
      ]
    },
    {
      "cell_type": "markdown",
      "metadata": {
        "id": "clBerimQs2PY"
      },
      "source": [
        "Nesta etapa, vamos trazer o projeto do GitHub para máquina local."
      ]
    },
    {
      "cell_type": "code",
      "metadata": {
        "id": "fohdVuLzkdKP",
        "colab": {
          "base_uri": "https://localhost:8080/"
        },
        "outputId": "6d7ceba8-1d4f-4a3e-8093-621e12c403ae"
      },
      "source": [
        "!git clone https://github.com/GreisonMontenari/MontenariLabs.git\n",
        "\n"
      ],
      "execution_count": null,
      "outputs": [
        {
          "output_type": "stream",
          "name": "stdout",
          "text": [
            "Cloning into 'MontenariLabs'...\n",
            "remote: Enumerating objects: 39, done.\u001b[K\n",
            "remote: Counting objects: 100% (39/39), done.\u001b[K\n",
            "remote: Compressing objects: 100% (31/31), done.\u001b[K\n",
            "remote: Total 39 (delta 8), reused 0 (delta 0), pack-reused 0 (from 0)\u001b[K\n",
            "Receiving objects: 100% (39/39), 14.13 KiB | 7.06 MiB/s, done.\n",
            "Resolving deltas: 100% (8/8), done.\n"
          ]
        }
      ]
    },
    {
      "cell_type": "code",
      "metadata": {
        "id": "5-FAaAQXkdKP",
        "colab": {
          "base_uri": "https://localhost:8080/"
        },
        "outputId": "79ecea7f-629f-498d-8252-eaa8ebd5d63a"
      },
      "source": [
        "%cd /content/MontenariLabs/\n"
      ],
      "execution_count": null,
      "outputs": [
        {
          "output_type": "stream",
          "name": "stdout",
          "text": [
            "/content/MontenariLabs\n"
          ]
        }
      ]
    },
    {
      "cell_type": "markdown",
      "metadata": {
        "id": "waxn4B2UDHyl"
      },
      "source": [
        "---"
      ]
    },
    {
      "cell_type": "markdown",
      "metadata": {
        "id": "finLQoyyGVmk"
      },
      "source": [
        "## 2\\. Preço da gasolina"
      ]
    },
    {
      "cell_type": "markdown",
      "metadata": {
        "id": "7dJne-O92n2v"
      },
      "source": [
        "O código abaixo gera um arquivo com o preço médio de venda da gasolina na cidade de São Paulo nos 10 primeiros dias de Julho de 2021."
      ]
    },
    {
      "cell_type": "code",
      "metadata": {
        "id": "Uhvy1LG31n1A",
        "colab": {
          "base_uri": "https://localhost:8080/"
        },
        "outputId": "b4dd7323-8bbe-49ed-db81-2102471e1005"
      },
      "source": [
        "%%writefile gasolina.csv\n",
        "dia,venda\n",
        "1,5.11\n",
        "2,4.99\n",
        "3,5.02\n",
        "4,5.21\n",
        "5,5.07\n",
        "6,5.09\n",
        "7,5.13\n",
        "8,5.12\n",
        "9,4.94\n",
        "10,5.03"
      ],
      "execution_count": null,
      "outputs": [
        {
          "output_type": "stream",
          "name": "stdout",
          "text": [
            "Writing gasolina.csv\n"
          ]
        }
      ]
    },
    {
      "cell_type": "markdown",
      "metadata": {
        "id": "eun0qdii21WO"
      },
      "source": [
        "### **2.1. Desenvolvimento**"
      ]
    },
    {
      "cell_type": "markdown",
      "metadata": {
        "id": "5MiknLIh2460"
      },
      "source": [
        "Gere uma gráfico de linha utilizando os dados do arquivo `gasolina.csv` com o dia no eixo `x`\n",
        " e o seu preço no eixo `y` utilizando os pacotes Python de sua preferência, como o Pandas e o Seaborn. Salve o gráfico no arquivo `gasolina.png` e o seu código Python de geração no arquivo `gasolina.py`."
      ]
    },
    {
      "cell_type": "code",
      "metadata": {
        "id": "PPzewPcD3Z8n",
        "colab": {
          "base_uri": "https://localhost:8080/",
          "height": 565
        },
        "outputId": "c1876cc9-cfa7-4909-86fd-42e9e49598f6"
      },
      "source": [
        "import pandas as pd\n",
        "import seaborn as sns\n",
        "import matplotlib.pyplot as plt\n",
        "\n",
        "# Leitura do arquivo gasolina.csv\n",
        "df = pd.read_csv('gasolina.csv')\n",
        "\n",
        "# Criação do gráfico de linha\n",
        "plt.figure(figsize=(8, 6))\n",
        "sns.lineplot(data=df, x='dia', y='venda', marker='o')\n",
        "\n",
        "# Adicionando título e rótulos aos eixos\n",
        "plt.title('Preço Médio de Venda da Gasolina em São Paulo (1 a 10 de Julho de 2021)')\n",
        "plt.xlabel('Dia')\n",
        "plt.ylabel('Preço de Venda (R$)')\n",
        "\n",
        "# Salvando o gráfico em um arquivo .png\n",
        "plt.savefig('gasolina.png')\n",
        "\n",
        "# Exibindo o gráfico\n",
        "plt.show()\n"
      ],
      "execution_count": null,
      "outputs": [
        {
          "output_type": "display_data",
          "data": {
            "text/plain": [
              "<Figure size 800x600 with 1 Axes>"
            ],
            "image/png": "[encoded data removed]"
          },
          "metadata": {}
        }
      ]
    },
    {
      "cell_type": "markdown",
      "metadata": {
        "id": "T51dv46X3YoT"
      },
      "source": [
        "### **2.2. Git**"
      ]
    },
    {
      "cell_type": "markdown",
      "metadata": {
        "id": "iyb6rFFX3YoU"
      },
      "source": [
        "Utilizando os comandos do `git`, adicione e \"commite\" os arquivos gerados (base, código Python e gráfico)."
      ]
    },
    {
      "cell_type": "code",
      "metadata": {
        "id": "tRAunRfR4RfG"
      },
      "source": [
        "# comandos git para adicionar e commitar os arquivos"
      ],
      "execution_count": null,
      "outputs": []
    },
    {
      "cell_type": "markdown",
      "metadata": {
        "id": "ozAPHQJu4P00"
      },
      "source": [
        "### **2.3. Github**"
      ]
    },
    {
      "cell_type": "markdown",
      "metadata": {
        "id": "2JkFXRdW4P01"
      },
      "source": [
        "Utilizando os comandos do `git`, envie o seu commit para o GitHub."
      ]
    },
    {
      "cell_type": "code",
      "source": [
        "!ls\n"
      ],
      "metadata": {
        "colab": {
          "base_uri": "https://localhost:8080/"
        },
        "id": "JHpUJ96hbLNo",
        "outputId": "4e0f3a75-9a3d-4127-fe94-1d6fd9baaf1d"
      },
      "execution_count": null,
      "outputs": [
        {
          "output_type": "stream",
          "name": "stdout",
          "text": [
            "CONTRIBUINDO.md  gasolina.csv  gasolina.png  projetos  README.md\n"
          ]
        }
      ]
    },
    {
      "cell_type": "code",
      "source": [
        "%%writefile gasolina.py\n",
        "import pandas as pd\n",
        "import seaborn as sns\n",
        "import matplotlib.pyplot as plt\n",
        "\n",
        "# Leitura do arquivo gasolina.csv\n",
        "df = pd.read_csv('gasolina.csv')\n",
        "\n",
        "# Criação do gráfico de linha\n",
        "plt.figure(figsize=(8, 6))\n",
        "sns.lineplot(data=df, x='dia', y='venda', marker='o')\n",
        "\n",
        "# Adicionando título e rótulos aos eixos\n",
        "plt.title('Preço Médio de Venda da Gasolina em São Paulo (1 a 10 de Julho de 2021)')\n",
        "plt.xlabel('Dia')\n",
        "plt.ylabel('Preço de Venda (R$)')\n",
        "\n",
        "# Salvando o gráfico em um arquivo .png\n",
        "plt.savefig('gasolina.png')\n",
        "\n",
        "# Exibindo o gráfico\n",
        "plt.show()\n"
      ],
      "metadata": {
        "colab": {
          "base_uri": "https://localhost:8080/"
        },
        "id": "mVEZN2mxbVKU",
        "outputId": "8961f893-321b-49f1-cc24-a2c043809e23"
      },
      "execution_count": null,
      "outputs": [
        {
          "output_type": "stream",
          "name": "stdout",
          "text": [
            "Writing gasolina.py\n"
          ]
        }
      ]
    },
    {
      "cell_type": "code",
      "metadata": {
        "id": "xEKWMYH75FfC"
      },
      "source": [
        "!git add gasolina.csv gasolina.py gasolina.png\n",
        "\n"
      ],
      "execution_count": null,
      "outputs": []
    },
    {
      "cell_type": "code",
      "source": [
        "!git commit -m \"Adicionar arquivos com os dados da gasolina, código Python e gráfico gerado\"\n"
      ],
      "metadata": {
        "colab": {
          "base_uri": "https://localhost:8080/"
        },
        "id": "on7Ra7Z5a6ae",
        "outputId": "9a1a769e-94d9-4320-a0c5-bb1a191793b0"
      },
      "execution_count": null,
      "outputs": [
        {
          "output_type": "stream",
          "name": "stdout",
          "text": [
            "[main f1d62f5] Adicionar arquivos com os dados da gasolina, código Python e gráfico gerado\n",
            " 3 files changed, 32 insertions(+)\n",
            " create mode 100644 gasolina.csv\n",
            " create mode 100644 gasolina.png\n",
            " create mode 100644 gasolina.py\n"
          ]
        }
      ]
    },
    {
      "cell_type": "code",
      "source": [
        "!git config --global user.name \"GreisonMontenari\"\n",
        "\n"
      ],
      "metadata": {
        "id": "-zHWBe97bmVA"
      },
      "execution_count": null,
      "outputs": []
    },
    {
      "cell_type": "code",
      "source": [
        "!git config --global user.email \"greison_ferreira@hotmail.com\"\n"
      ],
      "metadata": {
        "id": "PqA3mXSEb0rS"
      },
      "execution_count": null,
      "outputs": []
    },
    {
      "cell_type": "code",
      "source": [
        "!git push origin main\n"
      ],
      "metadata": {
        "colab": {
          "base_uri": "https://localhost:8080/"
        },
        "id": "jdnjaulIa_io",
        "outputId": "a1126750-b1ad-4ecc-e56b-25e364876a9d"
      },
      "execution_count": null,
      "outputs": [
        {
          "output_type": "stream",
          "name": "stdout",
          "text": [
            "fatal: could not read Username for 'https://github.com': No such device or address\n"
          ]
        }
      ]
    },
    {
      "cell_type": "markdown",
      "metadata": {
        "id": "As3enQc2GVm1"
      },
      "source": [
        "---"
      ]
    },
    {
      "cell_type": "markdown",
      "metadata": {
        "id": "GWgNoJN8DHyY"
      },
      "source": [
        "## 3\\. Arquivo README.md"
      ]
    },
    {
      "cell_type": "markdown",
      "metadata": {
        "id": "fLGLUjR_bS36"
      },
      "source": [
        "O arquivo README.md é a porta de entrada do seu projeto, é ele que será renderizado quando o seu projeto for acessado, portanto, é importante que ele esteja bem escrito. Alguns exemplos:"
      ]
    },
    {
      "cell_type": "markdown",
      "metadata": {
        "id": "KCHdysuQuaFm"
      },
      "source": [
        " - [Pandas](https://github.com/pandas-dev/pandas);\n",
        " - [Seaborn](https://github.com/mwaskom/seaborn);\n",
        " - [Spark Cluster on Docker](https://github.com/cluster-apps-on-docker/spark-standalone-cluster-on-docker), esse projeto é meu! :)"
      ]
    },
    {
      "cell_type": "markdown",
      "metadata": {
        "id": "b38h7VzCazcD"
      },
      "source": [
        "### **3.1. Desenvolvimento**"
      ]
    },
    {
      "cell_type": "markdown",
      "metadata": {
        "id": "8IqWwI7KSCf7"
      },
      "source": [
        "Altere o arquivo README.md com informações sobre seu repositório, inclua um título e uma breve descrição do repositório (no mínimo)."
      ]
    },
    {
      "cell_type": "markdown",
      "metadata": {
        "id": "jHmAgsI2vmXk"
      },
      "source": [
        "> **Dica**: o README.md pode ser configurado utilizando o padrão **markdown**, o mesmo que utilizamos nas células de texto aqui no Google Colab."
      ]
    },
    {
      "cell_type": "markdown",
      "metadata": {
        "id": "C5hnW9-Oa5cI"
      },
      "source": [
        "### **3.2. Git**"
      ]
    },
    {
      "cell_type": "markdown",
      "metadata": {
        "id": "DwPGVASH4vuX"
      },
      "source": [
        "Utilizando os comandos do `git`, adicione e \"commite\" as alterações no arquivo `README.md`."
      ]
    },
    {
      "cell_type": "code",
      "metadata": {
        "id": "LJDWXMQt4vuX"
      },
      "source": [
        "!git config --global user.name \"GreisonMontenari\"\n"
      ],
      "execution_count": null,
      "outputs": []
    },
    {
      "cell_type": "markdown",
      "metadata": {
        "id": "NUnnxhfq49Md"
      },
      "source": [
        "### **3.3. Github**"
      ]
    },
    {
      "cell_type": "markdown",
      "metadata": {
        "id": "Kn7bwyDi49Md"
      },
      "source": [
        "Utilizando os comandos do `git`, envie o seu commit para o GitHub."
      ]
    },
    {
      "cell_type": "code",
      "metadata": {
        "id": "4h4FKhlq5KJJ",
        "colab": {
          "base_uri": "https://localhost:8080/"
        },
        "outputId": "0254bc38-bb4f-4256-e78e-2ae1c4cfbd15"
      },
      "source": [
        "# Adiciona os arquivos modificados ao repositório\n",
        "!git add .\n",
        "\n",
        "# Comita as mudanças com uma mensagem explicativa\n",
        "!git commit -m \"Atualizar o README com mais detalhes\"\n",
        "\n",
        "# Envia o commit para o repositório remoto no GitHub\n",
        "!git push origin main\n",
        "\n"
      ],
      "execution_count": null,
      "outputs": [
        {
          "output_type": "stream",
          "name": "stdout",
          "text": [
            "On branch main\n",
            "Your branch is ahead of 'origin/main' by 1 commit.\n",
            "  (use \"git push\" to publish your local commits)\n",
            "\n",
            "nothing to commit, working tree clean\n",
            "fatal: could not read Username for 'https://github.com': No such device or address\n"
          ]
        }
      ]
    }
  ]
}